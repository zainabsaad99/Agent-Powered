{
  "cells": [
    {
      "cell_type": "markdown",
      "id": "58a2db02",
      "metadata": {
        "id": "58a2db02"
      },
      "source": [
        "# AUB Compass — AUB Tutoring & Course Advisor\n",
        "**Submitted by:** Zainab Saad, 202472448\n",
        "\n",
        "\n",
        "---"
      ]
    },
    {
      "cell_type": "markdown",
      "id": "e88b3947",
      "metadata": {
        "id": "e88b3947"
      },
      "source": [
        "## Create Service Identity Files\n",
        "### AUB Compass Tutoring Service"
      ]
    },
    {
      "cell_type": "code",
      "execution_count": 1,
      "id": "f97b3a1f",
      "metadata": {
        "colab": {
          "base_uri": "https://localhost:8080/"
        },
        "id": "f97b3a1f",
        "outputId": "2654afd6-72ba-47fb-e7ff-387161e2802f"
      },
      "outputs": [
        {
          "name": "stderr",
          "output_type": "stream",
          "text": [
            "/tmp/ipython-input-3347262059.py:31: DeprecationWarning: datetime.datetime.utcnow() is deprecated and scheduled for removal in a future version. Use timezone-aware objects to represent datetimes in UTC: datetime.datetime.now(datetime.UTC).\n",
            "  \"copyright\": \"(c) {} AUB Compass Tutoring Service - Fictional service for coursework.\".format(datetime.datetime.utcnow().year)\n"
          ]
        },
        {
          "name": "stdout",
          "output_type": "stream",
          "text": [
            "Wrote: /content/me/about_service.pdf\n",
            "Wrote: /content/me/service_summary.txt\n"
          ]
        }
      ],
      "source": [
        "# -*- coding: utf-8 -*-\n",
        "import os, datetime, textwrap\n",
        "from pathlib import Path\n",
        "from PIL import Image, ImageDraw, ImageFont\n",
        "\n",
        "root = Path(\"/content\")\n",
        "(me := root / \"me\").mkdir(parents=True, exist_ok=True)\n",
        "(logs := root / \"logs\").mkdir(exist_ok=True)\n",
        "\n",
        "academic_service = {\n",
        "    \"name\": \"AUB Compass Tutoring Service\",\n",
        "    \"mission\": \"Empower AUB students with personalized course recommendations and tutoring support to make confident academic decisions and excel in their studies.\",\n",
        "    \"services\": [\n",
        "        \"AI Course Advisor - answers questions about AUB courses, majors, electives, and prerequisites.\",\n",
        "        \"Study Planner - helps organize semester schedules and balance workloads.\",\n",
        "        \"Skill Path Finder - recommends electives and minors for goals like data science, writing, or communication.\",\n",
        "        \"Tutoring Resource Hub - provides study tips and subject guidance.\",\n",
        "        \"Feedback Tracker - records common questions to improve service quality.\"\n",
        "    ],\n",
        "    \"team\": [\n",
        "        {\"name\": \"Academic Director - Dr. Layla Haddad\", \"bio\": \"Oversees tutoring quality and curriculum alignment.\"},\n",
        "        {\"name\": \"Technical Lead - Rami Choueiri\", \"bio\": \"Responsible for the AUB Compass AI platform and integrations.\"},\n",
        "        {\"name\": \"Student Success Lead - Nour Mansour\", \"bio\": \"Coordinates tutoring sessions and student onboarding.\"}\n",
        "    ],\n",
        "    \"value_prop\": [\n",
        "        \"Combines academic expertise with intelligent guidance for fast, accurate advice.\",\n",
        "        \"Encourages students to verify choices with official AUB advisors before registration.\",\n",
        "        \"Provides consistent, supportive, and ethical tutoring help.\"\n",
        "    ],\n",
        "    \"contact\": \"support@aubcompass.example (fictional)\",\n",
        "    \"copyright\": \"(c) {} AUB Compass Tutoring Service - Fictional service for coursework.\".format(datetime.datetime.utcnow().year)\n",
        "}\n",
        "\n",
        "def ascii_safe(s):\n",
        "    for k,v in [(\"—\",\"-\"),(\"–\",\"-\")]:\n",
        "        s = s.replace(k,v)\n",
        "    return s\n",
        "\n",
        "# Build PDF lines\n",
        "lines = [\n",
        "    academic_service[\"name\"] + \" - Service Profile\",\n",
        "    \"\",\n",
        "    \"Mission: \" + academic_service[\"mission\"],\n",
        "    \"\",\n",
        "    \"Services:\",\n",
        "] + [\"* \" + s for s in academic_service[\"services\"]] + [\n",
        "    \"\",\n",
        "    \"Team:\",\n",
        "] + [\"* \" + m[\"name\"] + \": \" + m[\"bio\"] for m in academic_service[\"team\"]] + [\n",
        "    \"\",\n",
        "    \"Value Proposition:\",\n",
        "] + [\"* \" + v for v in academic_service[\"value_prop\"]] + [\n",
        "    \"\",\n",
        "    \"Contact: \" + academic_service[\"contact\"],\n",
        "    academic_service[\"copyright\"]\n",
        "]\n",
        "lines = [ascii_safe(x) for x in lines]\n",
        "\n",
        "def save_text_as_pdf(lines, path):\n",
        "    width, height, margin, line_h = 1240, 1754, 28, 28\n",
        "    img = Image.new(\"RGB\", (width, height), \"white\")\n",
        "    draw = ImageDraw.Draw(img)\n",
        "    font = ImageFont.load_default()\n",
        "    y = margin\n",
        "    for raw in lines:\n",
        "        for w in textwrap.wrap(raw, width=95) or [\"\"]:\n",
        "            if y + line_h > height - margin:\n",
        "                break\n",
        "            draw.text((margin, y), w, font=font, fill=(0,0,0))\n",
        "            y += line_h\n",
        "    img.save(path, \"PDF\", resolution=150.0)\n",
        "\n",
        "pdf_path = me / \"about_service.pdf\"\n",
        "save_text_as_pdf(lines, str(pdf_path))\n",
        "\n",
        "# Summary file\n",
        "summary_lines = [\n",
        "    academic_service[\"name\"] + \" - Summary\",\n",
        "    \"\",\n",
        "    \"Mission\",\n",
        "    \"-------\",\n",
        "    academic_service[\"mission\"],\n",
        "    \"\",\n",
        "    \"What We Offer\",\n",
        "    \"-------------\",\n",
        "] + [\"- \" + s for s in academic_service[\"services\"]] + [\n",
        "    \"\",\n",
        "    \"Team\",\n",
        "    \"----\",\n",
        "] + [\"- \" + m[\"name\"] + \": \" + m[\"bio\"] for m in academic_service[\"team\"]] + [\n",
        "    \"\",\n",
        "    \"Value Proposition\",\n",
        "    \"-----------------\",\n",
        "] + [\"- \" + v for v in academic_service[\"value_prop\"]] + [\n",
        "    \"\",\n",
        "    \"Contact\",\n",
        "    \"-------\",\n",
        "    academic_service[\"contact\"],\n",
        "    \"\",\n",
        "    \"(For academic use - fictional tutoring service identity.)\",\n",
        "]\n",
        "(summary_path := me / \"service_summary.txt\").write_text(\"\\n\".join(summary_lines), encoding=\"utf-8\")\n",
        "\n",
        "print(\"Wrote:\", pdf_path)\n",
        "print(\"Wrote:\", summary_path)\n"
      ]
    },
    {
      "cell_type": "markdown",
      "id": "b1f02cee",
      "metadata": {
        "id": "b1f02cee"
      },
      "source": [
        "## Install Required Libraries"
      ]
    },
    {
      "cell_type": "code",
      "execution_count": 2,
      "id": "c0fe70d7",
      "metadata": {
        "colab": {
          "base_uri": "https://localhost:8080/"
        },
        "id": "c0fe70d7",
        "outputId": "88d11c79-9412-4484-e780-4c4a0e8f941b"
      },
      "outputs": [
        {
          "name": "stdout",
          "output_type": "stream",
          "text": [
            "\u001b[2K   \u001b[90m━━━━━━━━━━━━━━━━━━━━━━━━━━━━━━━━━━━━━━━━\u001b[0m \u001b[32m999.8/999.8 kB\u001b[0m \u001b[31m24.1 MB/s\u001b[0m eta \u001b[36m0:00:00\u001b[0m\n",
            "\u001b[2K   \u001b[90m━━━━━━━━━━━━━━━━━━━━━━━━━━━━━━━━━━━━━━━━\u001b[0m \u001b[32m63.5/63.5 MB\u001b[0m \u001b[31m10.6 MB/s\u001b[0m eta \u001b[36m0:00:00\u001b[0m\n",
            "\u001b[2K   \u001b[90m━━━━━━━━━━━━━━━━━━━━━━━━━━━━━━━━━━━━━━━━\u001b[0m \u001b[32m323.5/323.5 kB\u001b[0m \u001b[31m13.5 MB/s\u001b[0m eta \u001b[36m0:00:00\u001b[0m\n",
            "\u001b[?25h"
          ]
        }
      ],
      "source": [
        "!pip -q install -U openai gradio python-dotenv pypdf\n"
      ]
    },
    {
      "cell_type": "markdown",
      "id": "42286d05",
      "metadata": {
        "id": "42286d05"
      },
      "source": [
        "## Define Tool Functions (students & feedback logs)"
      ]
    },
    {
      "cell_type": "code",
      "execution_count": 3,
      "id": "5ceadc37",
      "metadata": {
        "id": "5ceadc37"
      },
      "outputs": [],
      "source": [
        "from pathlib import Path\n",
        "import csv, datetime\n",
        "\n",
        "root = Path(\"/content\")\n",
        "(logs := root / \"logs\").mkdir(exist_ok=True)\n",
        "students_csv = logs / \"students.csv\"\n",
        "feedback_csv = logs / \"feedback.csv\"\n",
        "\n",
        "if not students_csv.exists():\n",
        "    with open(students_csv, \"w\", newline=\"\", encoding=\"utf-8\") as f:\n",
        "        csv.writer(f).writerow([\"ts_iso\", \"email\", \"name\", \"message\"])\n",
        "if not feedback_csv.exists():\n",
        "    with open(feedback_csv, \"w\", newline=\"\", encoding=\"utf-8\") as f:\n",
        "        csv.writer(f).writerow([\"ts_iso\", \"question\", \"notes\"])\n",
        "\n",
        "def record_student_interest(email: str, name: str, message: str):\n",
        "    ts = datetime.datetime.utcnow().isoformat()\n",
        "    with open(students_csv, \"a\", newline=\"\", encoding=\"utf-8\") as f:\n",
        "        csv.writer(f).writerow([ts, email, name, message])\n",
        "    print(f\"[student] {ts} | {name} <{email}> - {message}\")\n",
        "    return {\"ok\": True, \"ts\": ts}\n",
        "\n",
        "def record_feedback(question: str):\n",
        "    ts = datetime.datetime.utcnow().isoformat()\n",
        "    with open(feedback_csv, \"a\", newline=\"\", encoding=\"utf-8\") as f:\n",
        "        csv.writer(f).writerow([ts, question, \"model didn't know\"])\n",
        "    print(f\"[feedback] {ts} | {question}\")\n",
        "    return {\"ok\": True, \"ts\": ts}\n"
      ]
    },
    {
      "cell_type": "markdown",
      "id": "4663dfa1",
      "metadata": {
        "id": "4663dfa1"
      },
      "source": [
        "## Sample AUB Course Catalog (for realistic answers)"
      ]
    },
    {
      "cell_type": "code",
      "execution_count": 4,
      "id": "ef187a0e",
      "metadata": {
        "id": "ef187a0e"
      },
      "outputs": [],
      "source": [
        "# Small fictional catalog to ground answers\n",
        "courses = {\n",
        "    \"CMPS 270\": \"Machine Learning - Introduction to algorithms and model training. Prereq: CMPS 200.\",\n",
        "    \"DATA 200\": \"Introduction to Data Science - Fundamentals of data visualization and analysis.\",\n",
        "    \"STAT 233\": \"Probability and Statistics - Covers probability theory, random variables, and data analysis.\",\n",
        "    \"ECON 222\": \"Econometrics I - Quantitative methods for economics and social sciences.\",\n",
        "    \"ENGL 203\": \"Academic Writing - Advanced academic writing and research composition.\",\n",
        "    \"BIOL 201\": \"Cell and Molecular Biology - Core molecular and cellular biology principles.\"\n",
        "}\n",
        "\n",
        "def list_courses():\n",
        "    return \"\\\\n\".join([f\"{k}: {v}\" for k,v in courses.items()])\n"
      ]
    },
    {
      "cell_type": "markdown",
      "id": "fa28fc90",
      "metadata": {
        "id": "fa28fc90"
      },
      "source": [
        "## Load Context and Define System Prompt"
      ]
    },
    {
      "cell_type": "code",
      "execution_count": 5,
      "id": "4c14a5ff",
      "metadata": {
        "id": "4c14a5ff"
      },
      "outputs": [],
      "source": [
        "import os\n",
        "from dotenv import load_dotenv\n",
        "from pypdf import PdfReader\n",
        "\n",
        "load_dotenv()\n",
        "\n",
        "SUMMARY_PATH = \"/content/me/service_summary.txt\"\n",
        "PDF_PATH = \"/content/me/about_service.pdf\"\n",
        "\n",
        "def load_service_context():\n",
        "    summary, pdf_text = \"\", \"\"\n",
        "    if os.path.exists(SUMMARY_PATH):\n",
        "        with open(SUMMARY_PATH, \"r\", encoding=\"utf-8\") as f:\n",
        "            summary = f.read()\n",
        "    if os.path.exists(PDF_PATH):\n",
        "        try:\n",
        "            reader = PdfReader(PDF_PATH)\n",
        "            for page in reader.pages:\n",
        "                pdf_text += page.extract_text() + \"\\\\n\"\n",
        "        except Exception as e:\n",
        "            pdf_text = \"(PDF text unavailable: \" + str(e) + \")\"\n",
        "    return summary, pdf_text\n",
        "\n",
        "SYSTEM_PROMPT = (\n",
        "    \"You are AUB Compass, the official tutoring and course-advising assistant for the American University of Beirut (AUB). \"\n",
        "    \"You help students explore courses, understand prerequisites, plan study paths, and find tutoring help. \"\n",
        "    \"Keep your tone professional, encouraging, and factual. \"\n",
        "    \"Base answers on the AUB course catalog provided. \"\n",
        "    \"If you cannot answer, call the `record_feedback` tool with the exact question. \"\n",
        "    \"If a student wants tutoring or course planning help, collect their name and email and call `record_student_interest`. \"\n",
        "    \"Always encourage students to confirm plans with official AUB advisors before registration.\"\n",
        ")\n"
      ]
    },
    {
      "cell_type": "markdown",
      "id": "5d66cadd",
      "metadata": {
        "id": "5d66cadd"
      },
      "source": [
        "## Define the Agent Logic and Tool Integration"
      ]
    },
    {
      "cell_type": "code",
      "execution_count": null,
      "id": "98e25e8b",
      "metadata": {
        "id": "98e25e8b"
      },
      "outputs": [],
      "source": [
        "from openai import OpenAI\n",
        "import json\n",
        "# insert your OpenAI API key here\n",
        "api_key = \"\"\n",
        "client = OpenAI(api_key=api_key)\n",
        "tools = [\n",
        "    {\n",
        "        \"type\": \"function\",\n",
        "        \"function\": {\n",
        "            \"name\": \"record_student_interest\",\n",
        "            \"description\": \"Store a student's info and request so the tutoring team can follow up.\",\n",
        "            \"parameters\": {\n",
        "                \"type\": \"object\",\n",
        "                \"properties\": {\n",
        "                    \"email\": {\"type\": \"string\", \"description\": \"Student email\"},\n",
        "                    \"name\": {\"type\": \"string\", \"description\": \"Student name\"},\n",
        "                    \"message\": {\"type\": \"string\", \"description\": \"Short summary of their tutoring/course question\"}\n",
        "                },\n",
        "                \"required\": [\"email\", \"name\", \"message\"]\n",
        "            },\n",
        "        },\n",
        "    },\n",
        "    {\n",
        "        \"type\": \"function\",\n",
        "        \"function\": {\n",
        "            \"name\": \"record_feedback\",\n",
        "            \"description\": \"Log an unanswered or out-of-scope question for improvement.\",\n",
        "            \"parameters\": {\n",
        "                \"type\": \"object\",\n",
        "                \"properties\": {\n",
        "                    \"question\": {\"type\": \"string\", \"description\": \"The question that couldn't be answered\"}\n",
        "                },\n",
        "                \"required\": [\"question\"]\n",
        "            },\n",
        "        },\n",
        "    },\n",
        "]\n",
        "\n",
        "def run_agent(user_text, history):\n",
        "    summary, pdf_text = load_service_context()\n",
        "    course_block = \"AUB Courses (sample)\\\\n\" + \"\\\\n\".join([f\"- {k}: {v}\" for k,v in courses.items()])\n",
        "    messages = [\n",
        "        {\"role\": \"system\", \"content\": SYSTEM_PROMPT},\n",
        "        {\"role\": \"system\", \"content\": f\"SUMMARY:\\\\n{summary}\"},\n",
        "        {\"role\": \"system\", \"content\": f\"PDF:\\\\n{pdf_text}\"},\n",
        "        {\"role\": \"system\", \"content\": course_block},\n",
        "    ]\n",
        "    for role, content in history:\n",
        "        messages.append({\"role\": role, \"content\": content})\n",
        "    messages.append({\"role\": \"user\", \"content\": user_text})\n",
        "\n",
        "    resp = client.chat.completions.create(\n",
        "        model=\"gpt-4o-mini\",\n",
        "        messages=messages,\n",
        "        tools=tools,\n",
        "        tool_choice=\"auto\",\n",
        "        temperature=0.2,\n",
        "    )\n",
        "\n",
        "    msg = resp.choices[0].message\n",
        "    if getattr(msg, 'tool_calls', None):\n",
        "        tool_msgs = []\n",
        "        for call in msg.tool_calls:\n",
        "            name = call.function.name\n",
        "            args = json.loads(call.function.arguments or \"{}\")\n",
        "            if name == \"record_student_interest\":\n",
        "                result = record_student_interest(**args)\n",
        "            elif name == \"record_feedback\":\n",
        "                result = record_feedback(**args)\n",
        "            else:\n",
        "                result = {\"ok\": False, \"error\": f\"Unknown tool {name}\"}\n",
        "            tool_msgs.append({\"role\": \"tool\", \"tool_call_id\": call.id, \"name\": name, \"content\": json.dumps(result)})\n",
        "        follow = client.chat.completions.create(\n",
        "            model=\"gpt-4o-mini\",\n",
        "            messages=messages + [{\"role\": \"assistant\", \"tool_calls\": msg.tool_calls}] + tool_msgs\n",
        "        )\n",
        "        return follow.choices[0].message.content\n",
        "    return msg.content\n"
      ]
    },
    {
      "cell_type": "markdown",
      "id": "4a257ff5",
      "metadata": {
        "id": "4a257ff5"
      },
      "source": [
        "## Launch the Gradio Chat Interface"
      ]
    },
    {
      "cell_type": "code",
      "execution_count": 8,
      "id": "cb3cadf9",
      "metadata": {
        "colab": {
          "base_uri": "https://localhost:8080/",
          "height": 697
        },
        "id": "cb3cadf9",
        "outputId": "fbec8bba-4ad9-4943-8317-b307218749e7"
      },
      "outputs": [
        {
          "name": "stderr",
          "output_type": "stream",
          "text": [
            "/tmp/ipython-input-3133211268.py:6: UserWarning: You have not specified a value for the `type` parameter. Defaulting to the 'tuples' format for chatbot messages, but this is deprecated and will be removed in a future version of Gradio. Please set type='messages' instead, which uses openai-style dictionaries with 'role' and 'content' keys.\n",
            "  chat = gr.Chatbot()\n"
          ]
        },
        {
          "name": "stdout",
          "output_type": "stream",
          "text": [
            "It looks like you are running Gradio on a hosted Jupyter notebook, which requires `share=True`. Automatically setting `share=True` (you can turn this off by setting `share=False` in `launch()` explicitly).\n",
            "\n",
            "Colab notebook detected. To show errors in colab notebook, set debug=True in launch()\n",
            "* Running on public URL: https://4e6b10b1e723f4bfed.gradio.live\n",
            "\n",
            "This share link expires in 1 week. For free permanent hosting and GPU upgrades, run `gradio deploy` from the terminal in the working directory to deploy to Hugging Face Spaces (https://huggingface.co/spaces)\n"
          ]
        },
        {
          "data": {
            "text/html": [
              "<div><iframe src=\"https://4e6b10b1e723f4bfed.gradio.live\" width=\"100%\" height=\"500\" allow=\"autoplay; camera; microphone; clipboard-read; clipboard-write;\" frameborder=\"0\" allowfullscreen></iframe></div>"
            ],
            "text/plain": [
              "<IPython.core.display.HTML object>"
            ]
          },
          "metadata": {},
          "output_type": "display_data"
        },
        {
          "name": "stdout",
          "output_type": "stream",
          "text": [
            "Ready. To launch the UI in Colab, call demo.launch().\n"
          ]
        }
      ],
      "source": [
        "import gradio as gr\n",
        "\n",
        "with gr.Blocks(title=\"AUB Compass – AUB Tutoring & Course Advisor\") as demo:\n",
        "    gr.Markdown(\"## AUB Compass – Intelligent Tutoring & Course Advisor\")\n",
        "    gr.Markdown(\"Ask about AUB classes, tutoring, or course recommendations. (Sample catalog included.)\")\n",
        "    chat = gr.Chatbot()\n",
        "    state = gr.State([])\n",
        "\n",
        "    def respond(user, history, st):\n",
        "        linear = []\n",
        "        for u,a in history:\n",
        "            if u: linear.append((\"user\", u))\n",
        "            if a: linear.append((\"assistant\", a))\n",
        "        reply = run_agent(user, linear)\n",
        "        history.append([user, reply])\n",
        "        st.append((\"user\", user)); st.append((\"assistant\", reply))\n",
        "        return history, st\n",
        "\n",
        "    inp = gr.Textbox(placeholder=\"Ask about AUB classes, tutoring, or course recommendations...\", label=\"Message\")\n",
        "    gr.ClearButton([inp, chat])\n",
        "    inp.submit(respond, [inp, chat, state], [chat, state])\n",
        "\n",
        "# Uncomment to launch in Colab\n",
        "demo.launch()\n",
        "print(\"Ready. To launch the UI in Colab, call demo.launch().\")\n"
      ]
    },
    {
      "cell_type": "markdown",
      "id": "e36f1963",
      "metadata": {
        "id": "e36f1963"
      },
      "source": [
        "## Realistic Example: Course Recommendation\n",
        "\n",
        "**User:** I'm a sophomore in Computer Science at AUB. Which electives help with data skills?\n",
        "\n",
        "**AUB Compass:** You could consider **DATA 200 – Introduction to Data Science** and **STAT 233 – Probability and Statistics**. If you've completed **CMPS 200**, you may also take **CMPS 270 – Machine Learning** next semester."
      ]
    }
  ],
  "metadata": {
    "colab": {
      "provenance": []
    },
    "kernelspec": {
      "display_name": "Python 3",
      "name": "python3"
    },
    "language_info": {
      "name": "python"
    }
  },
  "nbformat": 4,
  "nbformat_minor": 5
}
